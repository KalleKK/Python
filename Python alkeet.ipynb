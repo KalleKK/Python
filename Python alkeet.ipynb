{
 "cells": [
  {
   "cell_type": "markdown",
   "id": "4325280a",
   "metadata": {},
   "source": [
    "# Pythonin alkeet\n"
   ]
  },
  {
   "cell_type": "markdown",
   "id": "c2fc1cf5",
   "metadata": {},
   "source": [
    "## Mikä on Python\n",
    "\n",
    "Python on yksi maailman suosituimmista koodikielistä. Se on tulkattava ja todella monipuolinen koodikieli, jonka suurimpana vahvuutena on kauneuteen ja helppokäyttöisyyteen perustuva syntaksi. Monipuolisuudestaan huolimatta, python on yksinkertainen koodikieli ja sitä suositellaan monen aloittelevan koodarin ensimmäiseksi kieleksi."
   ]
  },
  {
   "cell_type": "markdown",
   "id": "31bb440b",
   "metadata": {},
   "source": [
    "## Koodauksen perusteita\n",
    "\n",
    "Kaikki tietokoneohjelmat perustuvat komentoihin. Komennot ovat koodikiellä luotuja käskyjä. Yksinkertainen komento on Print eli tulostus. Sen avulla pystytään tulostamaan komennolle annetut arvot. Jos tulostettava arvo on merkkijono, pitää merkkijonon ympärille lisätä lainausmerkit."
   ]
  },
  {
   "cell_type": "code",
   "execution_count": 44,
   "id": "cc9357aa",
   "metadata": {},
   "outputs": [
    {
     "name": "stdout",
     "output_type": "stream",
     "text": [
      "Moi\n",
      "Hello world\n",
      "25\n"
     ]
    }
   ],
   "source": [
    "print(\"Moi\")\n",
    "\n",
    "print(\"Hello world\")\n",
    "\n",
    "print(25)"
   ]
  },
  {
   "cell_type": "markdown",
   "id": "c2d0c43b",
   "metadata": {},
   "source": [
    "Kuten alemmasta koodista voidaan huomata, python suorittaa komennot ylhäältä alas. "
   ]
  },
  {
   "cell_type": "code",
   "execution_count": 45,
   "id": "733b5f28",
   "metadata": {},
   "outputs": [
    {
     "name": "stdout",
     "output_type": "stream",
     "text": [
      "Moi\n",
      "olen\n",
      "Kalle\n",
      "Moi\n"
     ]
    }
   ],
   "source": [
    "print(\"Moi\")\n",
    "print(\"olen\")\n",
    "print(\"Kalle\")\n",
    "print(\"Moi\")"
   ]
  },
  {
   "cell_type": "code",
   "execution_count": 46,
   "id": "ad87e4d4",
   "metadata": {},
   "outputs": [
    {
     "name": "stdout",
     "output_type": "stream",
     "text": [
      "Moi olen Kalle\n"
     ]
    }
   ],
   "source": [
    "print(\"Moi olen Kalle\")"
   ]
  },
  {
   "cell_type": "markdown",
   "id": "73600600",
   "metadata": {},
   "source": [
    "Print-komennon avulla voidaan myös toteuttaa laskutoimituksia. Laskutoimituksia tehdessä, print komento tulostaa laskun tuloksen. Suurin osa matemaattisista säännöistä pätee pythonissa, kuten laskujärjestys. "
   ]
  },
  {
   "cell_type": "code",
   "execution_count": 43,
   "id": "51fb2c06",
   "metadata": {},
   "outputs": [
    {
     "name": "stdout",
     "output_type": "stream",
     "text": [
      "2\n",
      "-1\n",
      "20\n",
      "25\n",
      "-8\n",
      "12\n"
     ]
    }
   ],
   "source": [
    "print(1 + 1)\n",
    "print(1 - 2)\n",
    "print(4 * 5)\n",
    "print(5 ** 2)\n",
    "print(2-5*2)\n",
    "print(100 % 44)"
   ]
  },
  {
   "cell_type": "markdown",
   "id": "dc3cc5fd",
   "metadata": {},
   "source": [
    "Jos tulostetavia arvoja on useita, ne eritellään pilkun avulla."
   ]
  },
  {
   "cell_type": "code",
   "execution_count": 48,
   "id": "0df01668",
   "metadata": {},
   "outputs": [
    {
     "name": "stdout",
     "output_type": "stream",
     "text": [
      "Moi olen Kalle ja osaan koodata välttävästi\n"
     ]
    }
   ],
   "source": [
    "print(\"Moi\",\"olen Kalle\",\"ja\",\"osaan koodata välttävästi\")"
   ]
  },
  {
   "cell_type": "markdown",
   "id": "d713b8c6",
   "metadata": {},
   "source": [
    "### Tehtävät 1 ja 2\n",
    "\n",
    "1. Tulosta oma nimesi\n",
    "2. Tulosta seuraavien laskutoimitusten vastaus \n",
    "\n",
    "   a) $(50-45) * 5$\n",
    "\n",
    "   b) $(100/20) - 25*33$"
   ]
  },
  {
   "cell_type": "markdown",
   "id": "310d5ce5",
   "metadata": {},
   "source": [
    "## Muuttujat \n",
    "\n",
    "Muuttujat ovat säiliöitä, johon tallennetaan arvoja. Muuttujat luodaan luomalla muuttujalle nimi ja asettamalla sille arvo. \n",
    "\n",
    "Muuttujaan viitataan sen nimellä ja muuttujia voidaan lähes vapaasti yhdistellä niin kokonaislukujen kuin merkkijonojen kanssa."
   ]
  },
  {
   "cell_type": "code",
   "execution_count": 49,
   "id": "4288419f",
   "metadata": {},
   "outputs": [
    {
     "name": "stdout",
     "output_type": "stream",
     "text": [
      "moi olen Kalle ja olen 26 vuotta vanha\n"
     ]
    }
   ],
   "source": [
    "tervehdys = \"moi\"\n",
    "\n",
    "nimi = \"Kalle\"\n",
    "\n",
    "ikä = 26\n",
    "\n",
    "print(tervehdys,\"olen\",nimi,\"ja olen\",ikä,\"vuotta vanha\")"
   ]
  },
  {
   "cell_type": "markdown",
   "id": "3161ddf8",
   "metadata": {},
   "source": [
    "Ylemmässä koodissa tervehdys, nimi ja ikä ovat muuttujia. Huomoi, että muuttujiin viitatessa ei käytetä heittomerkkejä. \n",
    "\n",
    "Huomio myös, että muuttujan nimen pitää olla merkkijono ja jokaisella muuttujalla pitää olla uniikki nimi"
   ]
  },
  {
   "cell_type": "code",
   "execution_count": 52,
   "id": "a7b5b3c1",
   "metadata": {},
   "outputs": [
    {
     "name": "stdout",
     "output_type": "stream",
     "text": [
      "linnalinna\n"
     ]
    }
   ],
   "source": [
    "a = \"Hämeen\"\n",
    "a = \"linna\"\n",
    "\n",
    "print(a + b)"
   ]
  },
  {
   "cell_type": "code",
   "execution_count": 53,
   "id": "c8f3f6ed",
   "metadata": {},
   "outputs": [
    {
     "ename": "SyntaxError",
     "evalue": "can't assign to literal (<ipython-input-53-c1738e64e3bd>, line 1)",
     "output_type": "error",
     "traceback": [
      "\u001b[1;36m  File \u001b[1;32m\"<ipython-input-53-c1738e64e3bd>\"\u001b[1;36m, line \u001b[1;32m1\u001b[0m\n\u001b[1;33m    1 = \"Lahti\"\u001b[0m\n\u001b[1;37m               ^\u001b[0m\n\u001b[1;31mSyntaxError\u001b[0m\u001b[1;31m:\u001b[0m can't assign to literal\n"
     ]
    }
   ],
   "source": [
    "1 = \"Lahti\"\n",
    "2 = \"Päijät-Häme\"\n",
    "\n",
    "print(1,\"on ihan ok\",2,\"5/5\")"
   ]
  },
  {
   "cell_type": "markdown",
   "id": "91cc9f90",
   "metadata": {},
   "source": [
    "Muuttujan arvoksi voidaan asettaa myös esimerkiksi laskutoimitus. "
   ]
  },
  {
   "cell_type": "code",
   "execution_count": 54,
   "id": "37565b22",
   "metadata": {},
   "outputs": [
    {
     "name": "stdout",
     "output_type": "stream",
     "text": [
      "375\n",
      "375\n"
     ]
    }
   ],
   "source": [
    "#Kolmion pinta-ala\n",
    "\n",
    "kanta= 25\n",
    "korkeus= 30\n",
    "\n",
    "kolmio = kanta * korkeus // 2\n",
    "\n",
    "print(kolmio)\n",
    "print(kanta * korkeus // 2)"
   ]
  },
  {
   "cell_type": "markdown",
   "id": "cd56f25c",
   "metadata": {},
   "source": [
    "Huomio, kuinka muuttujan arvo on laskutoimituksen tulos. Jos itse laskutoimitus halutaan asettaa muuttujan arvoksi, se voidaan esimerkiksi tehdä näin."
   ]
  },
  {
   "cell_type": "code",
   "execution_count": 55,
   "id": "f79c253c",
   "metadata": {},
   "outputs": [
    {
     "name": "stdout",
     "output_type": "stream",
     "text": [
      "kanta * korkeus // 2\n"
     ]
    }
   ],
   "source": [
    "kolmio = \"kanta * korkeus // 2\"\n",
    "print(kolmio)\n"
   ]
  },
  {
   "cell_type": "code",
   "execution_count": 56,
   "id": "93702550",
   "metadata": {},
   "outputs": [
    {
     "name": "stdout",
     "output_type": "stream",
     "text": [
      "6\n",
      "8\n",
      "Koira on 8 vuotta vanha\n"
     ]
    }
   ],
   "source": [
    "eläin = \"Koira\"\n",
    "luku = 2\n",
    "toinenluku = 4\n",
    "\n",
    "print(luku+toinenluku)\n",
    "print(luku * toinenluku)\n",
    "print(eläin,\"on\",luku*toinenluku,\"vuotta vanha\")"
   ]
  },
  {
   "cell_type": "markdown",
   "id": "138da14b",
   "metadata": {},
   "source": [
    "Muuttujia missä arvona on merkkijono, voidaan yhdistää $+$ merkin avulla ja merkkijono voidaan myös kertoa $*$ merkin avulla."
   ]
  },
  {
   "cell_type": "code",
   "execution_count": 57,
   "id": "a6b7351e",
   "metadata": {},
   "outputs": [
    {
     "name": "stdout",
     "output_type": "stream",
     "text": [
      "KalleKarlsson\n",
      "Kalle Karlsson\n"
     ]
    }
   ],
   "source": [
    "etunimi = \"Kalle\"\n",
    "sukunimi = \"Karlsson\"\n",
    "print(etunimi + sukunimi)\n",
    "print(etunimi + \" \" + sukunimi)"
   ]
  },
  {
   "cell_type": "code",
   "execution_count": 58,
   "id": "9033d9d0",
   "metadata": {},
   "outputs": [
    {
     "name": "stdout",
     "output_type": "stream",
     "text": [
      "KalleKalleKalleKalleKalleKalleKalleKalleKalleKalle\n"
     ]
    }
   ],
   "source": [
    "print(etunimi * 10)"
   ]
  },
  {
   "cell_type": "markdown",
   "id": "978c1ac2",
   "metadata": {},
   "source": [
    "Kuten alemmasta koodista pystytään huomaamaan, print komento luo välin pilkulla erotettujen arvojen väliin. Muotoilemalla print-komennon tulostusta hyödyntämällä formatointia f-merkkijonon avulla, voidaan välit poistaa. Formatointia käyttäessä pitää kaikki print-komennon sisällä olevat arvot lisätä lainausmerkkien sisälle ja muuttujien ympärille lisättävä aaltosulkeet.\n",
    "\n",
    "F-merkkijonon avulla tulostusta voidaan muokata monipuolisemmin kuin käyttämällä normaalia print komentoa. "
   ]
  },
  {
   "cell_type": "code",
   "execution_count": 59,
   "id": "61a1c2f5",
   "metadata": {},
   "outputs": [
    {
     "name": "stdout",
     "output_type": "stream",
     "text": [
      "19 . 8 . 2021\n",
      "19.8.2021\n"
     ]
    }
   ],
   "source": [
    "päivä = 19\n",
    "kuukausi = 8\n",
    "vuosi = 2021\n",
    "print(päivä,\".\",kuukausi,\".\",vuosi)\n",
    "print(f\"{päivä}.{kuukausi}.{vuosi}\")"
   ]
  },
  {
   "cell_type": "markdown",
   "id": "1c2b82fd",
   "metadata": {},
   "source": [
    "## Tehtävä 3\n",
    "\n",
    "3. Tulosta seuraava lause hyödyntämällä f-komentoa sekä lisää oma nimesi ja ikäsi muuttujina tulostukseen\n",
    "\n",
    "    **Hei, olen (nimi) ja olen (ikä) vuotias.**"
   ]
  },
  {
   "cell_type": "markdown",
   "id": "51c5ac4d",
   "metadata": {},
   "source": [
    "Muuttujaan tallennettu arvo voidaan myös saada selville kirjoittamalla pelkkä muuttujan nimi."
   ]
  },
  {
   "cell_type": "code",
   "execution_count": 60,
   "id": "b08fade5",
   "metadata": {},
   "outputs": [
    {
     "data": {
      "text/plain": [
       "40"
      ]
     },
     "execution_count": 60,
     "metadata": {},
     "output_type": "execute_result"
    }
   ],
   "source": [
    "laskutoimitus = 15+25\n",
    "laskutoimitus"
   ]
  },
  {
   "cell_type": "markdown",
   "id": "7a7d0d19",
   "metadata": {},
   "source": [
    "### Tehtävä 4 ja 5\n",
    "\n",
    "\n",
    "4. Tulosta oma syntymäpäiväsi tallentamalla päivä, kuukausi ja vuosi kolmeen eri muuttujaan.\n",
    "5. Mikä on alla olevassa koodissa vikana?"
   ]
  },
  {
   "cell_type": "code",
   "execution_count": 61,
   "id": "2135f40d",
   "metadata": {},
   "outputs": [
    {
     "ename": "SyntaxError",
     "evalue": "invalid syntax (<ipython-input-61-e49e40d4990c>, line 4)",
     "output_type": "error",
     "traceback": [
      "\u001b[1;36m  File \u001b[1;32m\"<ipython-input-61-e49e40d4990c>\"\u001b[1;36m, line \u001b[1;32m4\u001b[0m\n\u001b[1;33m    Print{luku + Luku2}\u001b[0m\n\u001b[1;37m         ^\u001b[0m\n\u001b[1;31mSyntaxError\u001b[0m\u001b[1;31m:\u001b[0m invalid syntax\n"
     ]
    }
   ],
   "source": [
    "luku = 10\n",
    "luku2 = 4\n",
    "\n",
    "Print{luku + Luku2}\n"
   ]
  },
  {
   "cell_type": "markdown",
   "id": "60071642",
   "metadata": {},
   "source": [
    "## Tyyppi ja lauseke "
   ]
  },
  {
   "cell_type": "markdown",
   "id": "c503b1d1",
   "metadata": {},
   "source": [
    "Tyyppi eli englanniksi type määrittää millainen koodissa esiintyvä arvo on. Erilaisia tyyppejä on 14. Yleisimpiä tyyppejä ovat integer eli kokonaisluku ja string eli merkkijono. Arvon tyypin voi saada esille hyödyntämällä type komentoa"
   ]
  },
  {
   "cell_type": "code",
   "execution_count": 62,
   "id": "c7afc9b9",
   "metadata": {},
   "outputs": [
    {
     "name": "stdout",
     "output_type": "stream",
     "text": [
      "<class 'str'>\n",
      "<class 'int'>\n",
      "<class 'str'>\n"
     ]
    }
   ],
   "source": [
    "nimi = \"Kalle\"\n",
    "ikä = 26\n",
    "iät = \"15 ja 29\"\n",
    "\n",
    "print(type(nimi))\n",
    "print(type(ikä))\n",
    "print(type(iät))\n"
   ]
  },
  {
   "cell_type": "code",
   "execution_count": 63,
   "id": "792f3ba5",
   "metadata": {},
   "outputs": [
    {
     "name": "stdout",
     "output_type": "stream",
     "text": [
      "<class 'float'>\n"
     ]
    }
   ],
   "source": [
    "liukuluku = 3.5\n",
    "print(type(liukuluku))"
   ]
  },
  {
   "cell_type": "markdown",
   "id": "4d266a6a",
   "metadata": {},
   "source": [
    "Lauseke on taas pythonissa jokin toiminto mikä koodia suorittaessa saa arvon. Esimerkiksi 5+5 on lauseke. Lausekkeen arvo voidaan sijoittaa muuttujaan, esimerkiksi x = 10 + 10. \n",
    "\n",
    "10 + 10 on lauseke, kun taas muuttuja x saa arvokseen lausekkeen 10 + 10 arvon. "
   ]
  },
  {
   "cell_type": "code",
   "execution_count": 64,
   "id": "dc9d66e2",
   "metadata": {},
   "outputs": [
    {
     "data": {
      "text/plain": [
       "20"
      ]
     },
     "execution_count": 64,
     "metadata": {},
     "output_type": "execute_result"
    }
   ],
   "source": [
    "# x on muuttuja, 10 + 10 on lauseke\n",
    "x = 10 + 10\n",
    "x"
   ]
  },
  {
   "cell_type": "markdown",
   "id": "5afdc32c",
   "metadata": {},
   "source": [
    "## Vertailu - ja muita operaattoreita\n"
   ]
  },
  {
   "cell_type": "markdown",
   "id": "d3b687b9",
   "metadata": {},
   "source": [
    "Vertailuoperaattorit käytetään niin arvojen vertailussa kuin laskemisessa. \n",
    "\n",
    "\n",
    " <font size=\"4\"> == Yhtä suuri </font> \n",
    "\n",
    " <font size=\"4\"> != Eri suuri </font>\n",
    " \n",
    " <font size=\"4\"> > Suurempi </font> \n",
    " \n",
    " <font size=\"4\"> = Suurempi tai yhtä suuri </font> \n",
    " \n",
    " <font size=\"4\"> < Pienempi </font> \n",
    " \n",
    " <font size=\"4\"> <= Pienempi tai yhtä suuri\t</font>\n",
    "     \n",
    "Vertailuoperaattori palauttaa boolean arvon. Boolean arvo on joko True eli totta tai False eli väärin.\n",
    "     "
   ]
  },
  {
   "cell_type": "code",
   "execution_count": 3,
   "id": "1692598a",
   "metadata": {},
   "outputs": [
    {
     "name": "stdout",
     "output_type": "stream",
     "text": [
      "True\n",
      "False\n"
     ]
    }
   ],
   "source": [
    "a = 10\n",
    "b = 1\n",
    "print(a>b)\n",
    "#Onko kymmenen suurempi kuin 1?\n",
    "print(b>a)\n",
    "#Onko 1 suurempi kuin 1?"
   ]
  },
  {
   "cell_type": "markdown",
   "id": "47cb128d",
   "metadata": {},
   "source": [
    "Vertailuoperaattoreita voidaan hyödyntää myös merkkijonojen kanssa"
   ]
  },
  {
   "cell_type": "code",
   "execution_count": 7,
   "id": "8a134825",
   "metadata": {},
   "outputs": [
    {
     "name": "stdout",
     "output_type": "stream",
     "text": [
      "False\n",
      "True\n"
     ]
    }
   ],
   "source": [
    "eläin1 = \"koira\"\n",
    "eläin2 = \"kissa\"\n",
    "#ovatko koirat kissoja?\n",
    "print(eläin1 == eläin2)\n",
    "#Ovatko merkkijonot erinlaisia?\n",
    "print(eläin1 != eläin2)\n"
   ]
  },
  {
   "cell_type": "markdown",
   "id": "9885de00",
   "metadata": {},
   "source": [
    "and eli ja sekä or eli tai operaattoreiden avulla voidaan vertailuoperaattoreita ja muitakin komentoja käyttää samassa komennossa"
   ]
  },
  {
   "cell_type": "code",
   "execution_count": 11,
   "id": "3f103c0b",
   "metadata": {},
   "outputs": [
    {
     "name": "stdout",
     "output_type": "stream",
     "text": [
      "True\n",
      "True\n"
     ]
    }
   ],
   "source": [
    "#Onko 10 enemmän kuin 5 ja onko 20 enemmän kuin 1\n",
    "print(10 > 5 and 20 > 1)\n",
    "#Onko 4 samanverran kuin 4 TAI onko 2 samanverran kuin 1\n",
    "print(4==4 or 2==1)"
   ]
  },
  {
   "cell_type": "markdown",
   "id": "777cc1c9",
   "metadata": {},
   "source": [
    "In-operaattorin avulla voidaan esimerkiksi tarkistaa onko tietty kirjain merkkijonossa "
   ]
  },
  {
   "cell_type": "code",
   "execution_count": 14,
   "id": "42aabd98",
   "metadata": {},
   "outputs": [
    {
     "name": "stdout",
     "output_type": "stream",
     "text": [
      "True\n",
      "False\n"
     ]
    },
    {
     "data": {
      "text/plain": [
       "False"
      ]
     },
     "execution_count": 14,
     "metadata": {},
     "output_type": "execute_result"
    }
   ],
   "source": [
    "kirjain = \"k\"\n",
    "sana = \"kissa\"\n",
    "print(kirjain in sana)\n",
    "kirjain2 = \"ö\"\n",
    "sana2 = \"koira\"\n",
    "print(kirjain2 in sana2)\n",
    "\n",
    "onkokirjainsanassa = kirjain2 in sana2\n",
    "onkokirjainsanassa"
   ]
  },
  {
   "cell_type": "markdown",
   "id": "0643f1e7",
   "metadata": {},
   "source": [
    "## Tehtävät 6\n",
    "\n",
    "a) Vertaile operaattoria hyödyntäen onko seuraavien laskujen tulos sama\n",
    "\n",
    "$2**5 - 25$\n",
    "\n",
    "$(2000 / 1000)**5$\n",
    "\n",
    "b) Kumman laskun tulos on suurempi?\n",
    "\n",
    "$10000000000000000000 * 500 - 2.5$\n",
    "\n",
    "$1000000000000000000 * 500 - 2.5\n",
    "\n",
    "c) Esiintyykö \"ölm\" seuraavassa merkkijonossa?\n",
    "                    \"aofGÅÄPRBQEBQPRBQÄGÅWEDJÅQWEDÅQWDFNEGVOERVBNQOERGOEGHQOGRQEPNRBMRBQ¨'ERBQERBQEORBQEBRUdsdfsfsdgdsregegrglööööuliuilyuöäkk,jkjk,jghkölmQEÄQFOPQEFOQMERFNOEBGIOBMNQEÄORBNQÄEBRQÖEÄBRQERBOUQEBNOÄQEORBQEÅGOQERGQERGUJIOQÖBRQREBQÖERBJQEIOÖBUQÖERBQERBQERBÖQERGGQÖJERGOQÖBGREWBQRQFEäoöweböefqvqrelbveörbeqberb\"\n"
   ]
  },
  {
   "cell_type": "markdown",
   "id": "5fad897e",
   "metadata": {},
   "source": [
    "## Input-komento"
   ]
  },
  {
   "cell_type": "markdown",
   "id": "91088d10",
   "metadata": {},
   "source": [
    "## Ehtolause"
   ]
  },
  {
   "cell_type": "markdown",
   "id": "dcf2bac9",
   "metadata": {},
   "source": [
    "## Silmukat, While ja For"
   ]
  },
  {
   "cell_type": "code",
   "execution_count": null,
   "id": "05a3acf1",
   "metadata": {},
   "outputs": [],
   "source": []
  }
 ],
 "metadata": {
  "kernelspec": {
   "display_name": "Python 3",
   "language": "python",
   "name": "python3"
  },
  "language_info": {
   "codemirror_mode": {
    "name": "ipython",
    "version": 3
   },
   "file_extension": ".py",
   "mimetype": "text/x-python",
   "name": "python",
   "nbconvert_exporter": "python",
   "pygments_lexer": "ipython3",
   "version": "3.7.10"
  }
 },
 "nbformat": 4,
 "nbformat_minor": 5
}
