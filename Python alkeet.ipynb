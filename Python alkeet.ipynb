{
 "cells": [
  {
   "cell_type": "markdown",
   "id": "5c53cdff",
   "metadata": {},
   "source": [
    "# Pythonin alkeet\n"
   ]
  },
  {
   "cell_type": "markdown",
   "id": "efe55cb3",
   "metadata": {},
   "source": [
    "## Mikä on Python\n",
    "\n",
    "Selitys tähän"
   ]
  },
  {
   "cell_type": "markdown",
   "id": "e43b4188",
   "metadata": {},
   "source": [
    "## Koodauksen perusteita"
   ]
  },
  {
   "cell_type": "code",
   "execution_count": 22,
   "id": "10120957",
   "metadata": {},
   "outputs": [
    {
     "name": "stdout",
     "output_type": "stream",
     "text": [
      "Moi\n",
      "Hello world\n"
     ]
    }
   ],
   "source": [
    "print(\"Moi\")\n",
    "\n",
    "print(\"Hello world\")"
   ]
  },
  {
   "cell_type": "code",
   "execution_count": 5,
   "id": "31f2ed0d",
   "metadata": {},
   "outputs": [
    {
     "name": "stdout",
     "output_type": "stream",
     "text": [
      "Moi\n",
      "olen\n",
      "Kalle\n"
     ]
    }
   ],
   "source": [
    "print(\"Moi\")\n",
    "print(\"olen\")\n",
    "print(\"Kalle\")"
   ]
  },
  {
   "cell_type": "code",
   "execution_count": 26,
   "id": "f4e76850",
   "metadata": {},
   "outputs": [
    {
     "name": "stdout",
     "output_type": "stream",
     "text": [
      "Moi olen Kalle\n"
     ]
    }
   ],
   "source": [
    "print(\"Moi olen Kalle\")"
   ]
  },
  {
   "cell_type": "code",
   "execution_count": 24,
   "id": "9174e65a",
   "metadata": {},
   "outputs": [
    {
     "name": "stdout",
     "output_type": "stream",
     "text": [
      "2\n",
      "-1\n"
     ]
    }
   ],
   "source": [
    "print(1 + 1)\n",
    "print(1 - 2)"
   ]
  },
  {
   "cell_type": "code",
   "execution_count": 25,
   "id": "49359c21",
   "metadata": {},
   "outputs": [
    {
     "name": "stdout",
     "output_type": "stream",
     "text": [
      "Moi olen Kalle\n"
     ]
    }
   ],
   "source": [
    "print(\"Moi\",\"olen Kalle\")"
   ]
  },
  {
   "cell_type": "markdown",
   "id": "846562c7",
   "metadata": {},
   "source": [
    "### Tehtävä 1\n",
    "\n",
    "1. Tulosta oma nimesi"
   ]
  },
  {
   "cell_type": "markdown",
   "id": "f3b3261e",
   "metadata": {},
   "source": [
    "## Muuttujat \n",
    "\n",
    "Muuttujat ovat säiliöitä ,johon tallennetaan arvoja, kuten merkkijonoja tai kokonaislukuja.\n",
    "Muuttujat voidaan nimetä millä tavalla tahansa, ottaen huomioon pythonin omat rajoitukset. Muuttujiin viitataan muuttujan nimellä ja muuttujia voidaan lähes vapaasti yhdistellä niin lukujen kuin tekstin kanssa."
   ]
  },
  {
   "cell_type": "code",
   "execution_count": 45,
   "id": "94db77cf",
   "metadata": {},
   "outputs": [
    {
     "name": "stdout",
     "output_type": "stream",
     "text": [
      "moi olen Kalle ja olen 26 vuotta vanha\n"
     ]
    }
   ],
   "source": [
    "tervehdys = \"moi\"\n",
    "\n",
    "nimi = \"Kalle\"\n",
    "\n",
    "ikä = 26\n",
    "\n",
    "print(tervehdys,\"olen\",nimi,\"ja olen\",ikä,\"vuotta vanha\")"
   ]
  },
  {
   "cell_type": "markdown",
   "id": "44627158",
   "metadata": {},
   "source": [
    "Muuttujat luodaan asettamalla muuttujaan arvo, kuten ylemmässä koodissa tervehdys, nimi ja ikä. Huomio, että muuttujiin viitatessa ei käytetä heittomerkkejä"
   ]
  },
  {
   "cell_type": "code",
   "execution_count": 36,
   "id": "0ec1c361",
   "metadata": {},
   "outputs": [
    {
     "name": "stdout",
     "output_type": "stream",
     "text": [
      "3\n",
      "2\n",
      "Koira on 2 vuotta vanha\n"
     ]
    }
   ],
   "source": [
    "eläin = \"Koira\"\n",
    "luku = 2\n",
    "toinenluku = 1\n",
    "\n",
    "print(luku+toinenluku)\n",
    "print(luku * toinenluku)\n",
    "print(eläin,\"on\",luku*toinenluku,\"vuotta vanha\")"
   ]
  },
  {
   "cell_type": "code",
   "execution_count": 39,
   "id": "a5d2281e",
   "metadata": {},
   "outputs": [
    {
     "name": "stdout",
     "output_type": "stream",
     "text": [
      "19 . 8 . 2021\n",
      "19.8.2021\n"
     ]
    }
   ],
   "source": [
    "print(päivä,\".\",kuukausi,\".\",vuosi)\n",
    "print(f\"{päivä}.{kuukausi}.{vuosi}\")"
   ]
  },
  {
   "cell_type": "markdown",
   "id": "512079c3",
   "metadata": {},
   "source": [
    "### Tehtävä 2\n",
    "\n",
    "2. Tulosta oma syntymäpäiväsi hyödyntämällä muuttujia"
   ]
  },
  {
   "cell_type": "code",
   "execution_count": 46,
   "id": "2f8906ec",
   "metadata": {},
   "outputs": [
    {
     "name": "stdout",
     "output_type": "stream",
     "text": [
      "<class 'str'>\n",
      "<class 'int'>\n"
     ]
    }
   ],
   "source": [
    "print(type(nimi))\n",
    "print(type(ikä))"
   ]
  },
  {
   "cell_type": "code",
   "execution_count": 42,
   "id": "d2fd1a24",
   "metadata": {},
   "outputs": [
    {
     "name": "stdout",
     "output_type": "stream",
     "text": [
      "<class 'float'>\n"
     ]
    }
   ],
   "source": [
    "liukuluku = 3.5\n",
    "print(type(liukuluku))"
   ]
  },
  {
   "cell_type": "markdown",
   "id": "0cf8e63e",
   "metadata": {},
   "source": [
    "Tyyppi eli englanniksi type määrittää millainen koodissa esiintyvä arvo on. Erilaisia tyyppejä on 14."
   ]
  },
  {
   "cell_type": "markdown",
   "id": "96e6f382",
   "metadata": {},
   "source": []
  }
 ],
 "metadata": {
  "kernelspec": {
   "display_name": "Python 3",
   "language": "python",
   "name": "python3"
  },
  "language_info": {
   "codemirror_mode": {
    "name": "ipython",
    "version": 3
   },
   "file_extension": ".py",
   "mimetype": "text/x-python",
   "name": "python",
   "nbconvert_exporter": "python",
   "pygments_lexer": "ipython3",
   "version": "3.7.10"
  }
 },
 "nbformat": 4,
 "nbformat_minor": 5
}
