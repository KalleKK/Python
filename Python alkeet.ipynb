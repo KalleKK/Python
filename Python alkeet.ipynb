{
 "cells": [
  {
   "cell_type": "markdown",
   "id": "24b23302",
   "metadata": {},
   "source": [
    "# Pythonin alkeet\n"
   ]
  },
  {
   "cell_type": "markdown",
   "id": "0f7f5b54",
   "metadata": {},
   "source": [
    "## Mikä on Python\n",
    "\n",
    "Python on yksi maailman suosituimmista koodikielistä. Se on tulkattava ja todella monipuolinen koodikieli, jonka suurimpana vahvuutena on kauneuteen ja helppokäyttöisyyteen perustuva syntaksi. Monipuolisuudestaan huolimatta, python on yksinkertainen koodikieli ja sitä suositellaan monen aloittelevan koodarin ensimmäiseksi kieleksi."
   ]
  },
  {
   "cell_type": "markdown",
   "id": "13a1c370",
   "metadata": {},
   "source": [
    "## Koodauksen perusteita\n",
    "\n",
    "Ohjelmat perustuvat komentoihin. Komennot ovat koodikiellä luotuja käskyjä, mitä ohjelma suorittaa yksitellen ja järjestyksessä. Komennot muodostavat ohjelmassa lauseita (engl. statements). Lause voi viitata yhteen komentoon, mutta lause voi myöskin olla monipuolisempi kokoelma erilaisia komentoja.\n",
    "\n",
    "Aloitetaan koodaus print komennosta. Print komennon avulla voidaan tulostaa komennolle annetut arvot. Jos tulostettava arvo on merkkijono, pitää merkkijonon ympärille lisätä lainausmerkit."
   ]
  },
  {
   "cell_type": "code",
   "execution_count": 1,
   "id": "c530ae15",
   "metadata": {},
   "outputs": [
    {
     "name": "stdout",
     "output_type": "stream",
     "text": [
      "Moi\n",
      "Hello world\n",
      "25\n"
     ]
    }
   ],
   "source": [
    "print(\"Moi\")\n",
    "\n",
    "print(\"Hello world\")\n",
    "\n",
    "print(25)"
   ]
  },
  {
   "cell_type": "markdown",
   "id": "99da748b",
   "metadata": {},
   "source": [
    "Kuten alemmasta koodista voidaan huomata, python suorittaa komennot ylhäältä alas. "
   ]
  },
  {
   "cell_type": "code",
   "execution_count": 2,
   "id": "574cc2a4",
   "metadata": {},
   "outputs": [
    {
     "name": "stdout",
     "output_type": "stream",
     "text": [
      "Moi\n",
      "olen\n",
      "Kalle\n",
      "Moi\n"
     ]
    }
   ],
   "source": [
    "print(\"Moi\")\n",
    "print(\"olen\")\n",
    "print(\"Kalle\")\n",
    "print(\"Moi\")"
   ]
  },
  {
   "cell_type": "code",
   "execution_count": 3,
   "id": "51ec7bf3",
   "metadata": {},
   "outputs": [
    {
     "name": "stdout",
     "output_type": "stream",
     "text": [
      "Moi olen Kalle\n"
     ]
    }
   ],
   "source": [
    "print(\"Moi olen Kalle\")"
   ]
  },
  {
   "cell_type": "markdown",
   "id": "3c4441ae",
   "metadata": {},
   "source": [
    "Print ,komennon avulla voidaan myös toteuttaa laskutoimituksia. Laskutoimituksia tehdessä, print komento tulostaa laskun tuloksen. Suurin osa matemaattisista säännöistä pätee pythonissa, kuten laskujärjestys. "
   ]
  },
  {
   "cell_type": "code",
   "execution_count": 1,
   "id": "6698e6b8",
   "metadata": {},
   "outputs": [
    {
     "name": "stdout",
     "output_type": "stream",
     "text": [
      "2\n",
      "-1\n",
      "20\n",
      "25\n",
      "-8\n",
      "12\n"
     ]
    }
   ],
   "source": [
    "print(1 + 1)\n",
    "print(1 - 2)\n",
    "print(4 * 5)\n",
    "print(5 ** 2)\n",
    "print(2-5*2)\n",
    "print(100 % 44)"
   ]
  },
  {
   "cell_type": "markdown",
   "id": "726ab284",
   "metadata": {},
   "source": [
    "Jos tulostetavia arvoja on useita, ne eritellään pilkun avulla."
   ]
  },
  {
   "cell_type": "code",
   "execution_count": 2,
   "id": "8b32d009",
   "metadata": {},
   "outputs": [
    {
     "name": "stdout",
     "output_type": "stream",
     "text": [
      "Moi olen Kalle ja osaan koodata välttävästi\n"
     ]
    }
   ],
   "source": [
    "print(\"Moi\",\"olen Kalle\",\"ja\",\"osaan koodata välttävästi\")"
   ]
  },
  {
   "cell_type": "markdown",
   "id": "c062e795",
   "metadata": {},
   "source": [
    "### Tehtävät 1 ja 2\n",
    "\n",
    "1. Tulosta oma nimesi\n",
    "2. Tulosta seuraavien laskutoimitusten vastaus \n",
    "\n",
    "   a) $(50-45) * 5$\n",
    "\n",
    "   b) $(100/20) - 25*33$"
   ]
  },
  {
   "cell_type": "markdown",
   "id": "4aecc0f1",
   "metadata": {},
   "source": [
    "## Muuttujat \n",
    "\n",
    "Muuttujat ovat säiliöitä, johon tallennetaan arvoja. Muuttujat luodaan luomalla muuttujalle nimi ja asettamalla sille arvo. \n",
    "\n",
    "Muuttujaan viitataan sen nimellä ja muuttujia voidaan lähes vapaasti yhdistellä niin kokonaislukujen kuin merkkijonojen kanssa."
   ]
  },
  {
   "cell_type": "code",
   "execution_count": 6,
   "id": "250c075e",
   "metadata": {},
   "outputs": [
    {
     "name": "stdout",
     "output_type": "stream",
     "text": [
      "moi olen Kalle ja olen 26 vuotta vanha\n"
     ]
    }
   ],
   "source": [
    "tervehdys = \"moi\"\n",
    "\n",
    "nimi = \"Kalle\"\n",
    "\n",
    "ikä = 26\n",
    "\n",
    "print(tervehdys,\"olen\",nimi,\"ja olen\",ikä,\"vuotta vanha\")"
   ]
  },
  {
   "cell_type": "markdown",
   "id": "92be4348",
   "metadata": {},
   "source": [
    "Ylemmässä koodissa tervehdys, nimi ja ikä ovat muuttujia. Huomoi, että muuttujiin viitatessa ei käytetä heittomerkkejä. \n",
    "\n",
    "Huomio myös, että muuttujan nimen pitää olla merkkijono ja jokaisella muuttujalla pitää olla uniikki nimi"
   ]
  },
  {
   "cell_type": "code",
   "execution_count": 3,
   "id": "7fad7b20",
   "metadata": {},
   "outputs": [
    {
     "name": "stdout",
     "output_type": "stream",
     "text": [
      "linna\n"
     ]
    }
   ],
   "source": [
    "a = \"Hämeen\"\n",
    "a = \"linna\"\n",
    "\n",
    "print(a)"
   ]
  },
  {
   "cell_type": "code",
   "execution_count": 8,
   "id": "a198d1c5",
   "metadata": {},
   "outputs": [
    {
     "ename": "SyntaxError",
     "evalue": "can't assign to literal (<ipython-input-8-c1738e64e3bd>, line 1)",
     "output_type": "error",
     "traceback": [
      "\u001b[1;36m  File \u001b[1;32m\"<ipython-input-8-c1738e64e3bd>\"\u001b[1;36m, line \u001b[1;32m1\u001b[0m\n\u001b[1;33m    1 = \"Lahti\"\u001b[0m\n\u001b[1;37m               ^\u001b[0m\n\u001b[1;31mSyntaxError\u001b[0m\u001b[1;31m:\u001b[0m can't assign to literal\n"
     ]
    }
   ],
   "source": [
    "1 = \"Lahti\"\n",
    "2 = \"Päijät-Häme\"\n",
    "\n",
    "print(1,\"on ihan ok\",2,\"5/5\")"
   ]
  },
  {
   "cell_type": "markdown",
   "id": "93ba7768",
   "metadata": {},
   "source": [
    "Muuttujan arvoksi voidaan asettaa myös esimerkiksi laskutoimitus. "
   ]
  },
  {
   "cell_type": "code",
   "execution_count": 9,
   "id": "caeb4245",
   "metadata": {},
   "outputs": [
    {
     "name": "stdout",
     "output_type": "stream",
     "text": [
      "375\n",
      "375\n"
     ]
    }
   ],
   "source": [
    "#Kolmion pinta-ala\n",
    "\n",
    "kanta= 25\n",
    "korkeus= 30\n",
    "\n",
    "kolmio = kanta * korkeus // 2\n",
    "\n",
    "print(kolmio)\n",
    "print(kanta * korkeus // 2)"
   ]
  },
  {
   "cell_type": "markdown",
   "id": "949409f7",
   "metadata": {},
   "source": [
    "Huomio, kuinka muuttujan arvo on laskutoimituksen tulos. Jos itse laskutoimitus halutaan asettaa muuttujan arvoksi, se voidaan esimerkiksi tehdä näin."
   ]
  },
  {
   "cell_type": "code",
   "execution_count": 10,
   "id": "a0586717",
   "metadata": {},
   "outputs": [
    {
     "name": "stdout",
     "output_type": "stream",
     "text": [
      "kanta * korkeus // 2\n"
     ]
    }
   ],
   "source": [
    "kolmio = \"kanta * korkeus // 2\"\n",
    "print(kolmio)\n"
   ]
  },
  {
   "cell_type": "code",
   "execution_count": 11,
   "id": "3d7b961e",
   "metadata": {},
   "outputs": [
    {
     "name": "stdout",
     "output_type": "stream",
     "text": [
      "6\n",
      "8\n",
      "Koira on 8 vuotta vanha\n"
     ]
    }
   ],
   "source": [
    "eläin = \"Koira\"\n",
    "luku = 2\n",
    "toinenluku = 4\n",
    "\n",
    "print(luku+toinenluku)\n",
    "print(luku * toinenluku)\n",
    "print(eläin,\"on\",luku*toinenluku,\"vuotta vanha\")"
   ]
  },
  {
   "cell_type": "markdown",
   "id": "6745b424",
   "metadata": {},
   "source": [
    "Muuttujia missä arvona on merkkijono, voidaan yhdistää $+$ merkin avulla ja merkkijono voidaan myös kertoa $*$ merkin avulla."
   ]
  },
  {
   "cell_type": "code",
   "execution_count": 12,
   "id": "1a010e2a",
   "metadata": {},
   "outputs": [
    {
     "name": "stdout",
     "output_type": "stream",
     "text": [
      "KalleKarlsson\n",
      "Kalle Karlsson\n"
     ]
    }
   ],
   "source": [
    "etunimi = \"Kalle\"\n",
    "sukunimi = \"Karlsson\"\n",
    "\n",
    "print(etunimi + sukunimi)\n",
    "print(etunimi + \" \" + sukunimi)"
   ]
  },
  {
   "cell_type": "code",
   "execution_count": 13,
   "id": "7fd508a7",
   "metadata": {},
   "outputs": [
    {
     "name": "stdout",
     "output_type": "stream",
     "text": [
      "KalleKalleKalleKalleKalleKalleKalleKalleKalleKalle\n"
     ]
    }
   ],
   "source": [
    "print(etunimi * 10)"
   ]
  },
  {
   "cell_type": "markdown",
   "id": "9797ce9e",
   "metadata": {},
   "source": [
    "Kuten alemmasta koodista pystytään huomaamaan, print komento luo välin pilkulla erotettujen arvojen väliin. Muotoilemalla print-komennon tulostusta hyödyntämällä formatointia f-merkkijonon avulla, voidaan välit poistaa. Formatointia käyttäessä pitää kaikki print-komennon sisällä olevat arvot lisätä lainausmerkkien sisälle ja muuttujien ympärille lisättävä aaltosulkeet.\n",
    "\n",
    "F-merkkijonon avulla tulostusta voidaan muokata monipuolisemmin kuin käyttämällä normaalia print komentoa. "
   ]
  },
  {
   "cell_type": "code",
   "execution_count": 14,
   "id": "20273ab6",
   "metadata": {},
   "outputs": [
    {
     "name": "stdout",
     "output_type": "stream",
     "text": [
      "19 . 8 . 2021\n",
      "19.8.2021\n"
     ]
    }
   ],
   "source": [
    "päivä = 19\n",
    "kuukausi = 8\n",
    "vuosi = 2021\n",
    "\n",
    "print(päivä,\".\",kuukausi,\".\",vuosi)\n",
    "print(f\"{päivä}.{kuukausi}.{vuosi}\")"
   ]
  },
  {
   "cell_type": "markdown",
   "id": "80b1ef92",
   "metadata": {},
   "source": [
    "## Tehtävä 3\n",
    "\n",
    "3. Tulosta seuraava lause hyödyntämällä f-merkkijonoa sekä lisää oma nimesi ja ikäsi muuttujina tulostukseen\n",
    "\n",
    "    **Hei, olen (nimi) ja olen (ikä) vuotias.**"
   ]
  },
  {
   "cell_type": "markdown",
   "id": "43c56705",
   "metadata": {},
   "source": [
    "Muuttujaan tallennettu arvo voidaan myös saada selville kirjoittamalla pelkkä muuttujan nimi."
   ]
  },
  {
   "cell_type": "code",
   "execution_count": 15,
   "id": "48d3666e",
   "metadata": {},
   "outputs": [
    {
     "data": {
      "text/plain": [
       "40"
      ]
     },
     "execution_count": 15,
     "metadata": {},
     "output_type": "execute_result"
    }
   ],
   "source": [
    "laskutoimitus = 15+25\n",
    "laskutoimitus"
   ]
  },
  {
   "cell_type": "markdown",
   "id": "52d72c20",
   "metadata": {},
   "source": [
    "### Tehtävä 4 ja 5\n",
    "\n",
    "\n",
    "4. Tulosta oma syntymäpäiväsi tallentamalla päivä, kuukausi ja vuosi kolmeen eri muuttujaan.\n",
    "5. Korjaa alla oleva koodi"
   ]
  },
  {
   "cell_type": "code",
   "execution_count": 8,
   "id": "f643597f",
   "metadata": {},
   "outputs": [
    {
     "ename": "SyntaxError",
     "evalue": "invalid syntax (<ipython-input-8-383e7c83f7b5>, line 1)",
     "output_type": "error",
     "traceback": [
      "\u001b[1;36m  File \u001b[1;32m\"<ipython-input-8-383e7c83f7b5>\"\u001b[1;36m, line \u001b[1;32m1\u001b[0m\n\u001b[1;33m    luku.1 = 10\u001b[0m\n\u001b[1;37m         ^\u001b[0m\n\u001b[1;31mSyntaxError\u001b[0m\u001b[1;31m:\u001b[0m invalid syntax\n"
     ]
    }
   ],
   "source": [
    "luku.1 = 10\n",
    "luku 2 = 4\n",
    "\n",
    "Print{luku.1 + Luku 2}\n"
   ]
  },
  {
   "cell_type": "markdown",
   "id": "a541758c",
   "metadata": {},
   "source": [
    "## Tyyppi ja lauseke "
   ]
  },
  {
   "cell_type": "markdown",
   "id": "04bc9252",
   "metadata": {},
   "source": [
    "Tyyppi eli englanniksi type määrittää millainen koodissa esiintyvä arvo on. Erilaisia tyyppejä on 14. Yleisimpiä tyyppejä ovat integer eli kokonaisluku ja string eli merkkijono. Arvon tyypin voi saada esille hyödyntämällä type komentoa"
   ]
  },
  {
   "cell_type": "code",
   "execution_count": 17,
   "id": "fe5651bf",
   "metadata": {},
   "outputs": [
    {
     "name": "stdout",
     "output_type": "stream",
     "text": [
      "<class 'str'>\n",
      "<class 'int'>\n",
      "<class 'str'>\n"
     ]
    }
   ],
   "source": [
    "nimi = \"Kalle\"\n",
    "ikä = 26\n",
    "iät = \"15 ja 29\"\n",
    "\n",
    "print(type(nimi))\n",
    "print(type(ikä))\n",
    "print(type(iät))\n"
   ]
  },
  {
   "cell_type": "code",
   "execution_count": 18,
   "id": "071b1844",
   "metadata": {},
   "outputs": [
    {
     "name": "stdout",
     "output_type": "stream",
     "text": [
      "<class 'float'>\n"
     ]
    }
   ],
   "source": [
    "liukuluku = 3.5\n",
    "print(type(liukuluku))"
   ]
  },
  {
   "cell_type": "markdown",
   "id": "ba166cb4",
   "metadata": {},
   "source": [
    "Lauseke on taas pythonissa jokin toiminto mikä koodia suorittaessa saa tyyppi arvon. Esimerkiksi 5+5 on lauseke. Lausekkeen arvo voidaan sijoittaa muuttujaan, esimerkiksi x = 10 + 10. Tässä tapauksessa lausekkeen arvo on 10 + 10 ja sen tyyppi on int eli kokonaisluku. "
   ]
  },
  {
   "cell_type": "code",
   "execution_count": 19,
   "id": "8f7b1d7b",
   "metadata": {},
   "outputs": [
    {
     "data": {
      "text/plain": [
       "20"
      ]
     },
     "execution_count": 19,
     "metadata": {},
     "output_type": "execute_result"
    }
   ],
   "source": [
    "# x on muuttuja, 10 + 10 on lauseke\n",
    "x = 10 + 10\n",
    "x"
   ]
  },
  {
   "cell_type": "markdown",
   "id": "4900a299",
   "metadata": {},
   "source": [
    "## Vertailu - ja muita operaattoreita\n"
   ]
  },
  {
   "cell_type": "markdown",
   "id": "450cef1b",
   "metadata": {},
   "source": [
    "Vertailuoperaattorit käytetään niin arvojen vertailussa kuin laskemisessa. \n",
    "\n",
    "\n",
    "<p size=\"4\"> == Yhtä suuri </p> \n",
    "\n",
    "<p size=\"4\"> != Eri suuri </p>\n",
    " \n",
    "<p size=\"4\"> > Suurempi </p> \n",
    " \n",
    "<p size=\"4\"> >= Suurempi tai yhtä suuri </p> \n",
    "\n",
    "<p size=\"55\"> < Pienempi </p>\n",
    " \n",
    "<p size=\"4\"> <= Pienempi tai yhtä suuri\t</p>\n",
    "     \n",
    "Vertailuoperaattori palauttaa boolean arvon. Boolean arvo on joko True eli totta tai False eli väärin.\n",
    "     "
   ]
  },
  {
   "cell_type": "code",
   "execution_count": 20,
   "id": "686692e5",
   "metadata": {},
   "outputs": [
    {
     "name": "stdout",
     "output_type": "stream",
     "text": [
      "True\n",
      "False\n"
     ]
    }
   ],
   "source": [
    "a = 10\n",
    "b = 1\n",
    "print(a>b)\n",
    "#Onko kymmenen suurempi kuin 1?\n",
    "print(b>a)\n",
    "#Onko 1 suurempi kuin 1?"
   ]
  },
  {
   "cell_type": "markdown",
   "id": "2124799d",
   "metadata": {},
   "source": [
    "Vertailuoperaattoreita voidaan hyödyntää myös merkkijonojen kanssa"
   ]
  },
  {
   "cell_type": "code",
   "execution_count": 21,
   "id": "d2c20833",
   "metadata": {},
   "outputs": [
    {
     "name": "stdout",
     "output_type": "stream",
     "text": [
      "False\n",
      "True\n"
     ]
    }
   ],
   "source": [
    "eläin1 = \"koira\"\n",
    "eläin2 = \"kissa\"\n",
    "\n",
    "#ovatko koirat kissoja?\n",
    "print(eläin1 == eläin2)\n",
    "\n",
    "#Ovatko merkkijonot erinlaisia?\n",
    "print(eläin1 != eläin2)\n"
   ]
  },
  {
   "cell_type": "markdown",
   "id": "4aaa0b53",
   "metadata": {},
   "source": [
    "and eli ja sekä or eli tai operaattoreiden avulla voidaan vertailuoperaattoreita ja muitakin komentoja käyttää samassa komennossa"
   ]
  },
  {
   "cell_type": "code",
   "execution_count": 22,
   "id": "7eb49242",
   "metadata": {},
   "outputs": [
    {
     "name": "stdout",
     "output_type": "stream",
     "text": [
      "True\n",
      "True\n"
     ]
    }
   ],
   "source": [
    "#Onko 10 enemmän kuin 5 ja onko 20 enemmän kuin 1\n",
    "\n",
    "print(10 > 5 and 20 > 1)\n",
    "\n",
    "#Onko 4 samanverran kuin 4 TAI onko 2 samanverran kuin 1\n",
    "\n",
    "print(4==4 or 2==1)"
   ]
  },
  {
   "cell_type": "markdown",
   "id": "abe6d3de",
   "metadata": {},
   "source": [
    "In-operaattorin avulla voidaan esimerkiksi tarkistaa onko tietty kirjain merkkijonossa "
   ]
  },
  {
   "cell_type": "code",
   "execution_count": 23,
   "id": "0ccd2cde",
   "metadata": {},
   "outputs": [
    {
     "name": "stdout",
     "output_type": "stream",
     "text": [
      "True\n",
      "False\n"
     ]
    },
    {
     "data": {
      "text/plain": [
       "False"
      ]
     },
     "execution_count": 23,
     "metadata": {},
     "output_type": "execute_result"
    }
   ],
   "source": [
    "kirjain = \"k\"\n",
    "sana = \"kissa\"\n",
    "\n",
    "print(kirjain in sana)\n",
    "\n",
    "kirjain2 = \"ö\"\n",
    "sana2 = \"koira\"\n",
    "\n",
    "print(kirjain2 in sana2)\n",
    "\n",
    "onkokirjainsanassa = kirjain2 in sana2\n",
    "onkokirjainsanassa"
   ]
  },
  {
   "cell_type": "markdown",
   "id": "63ff5f2a",
   "metadata": {},
   "source": [
    "## Tehtävät 6\n",
    "\n",
    "a) Vertaile operaattoria hyödyntäen onko seuraavien laskujen tulos sama\n",
    "\n",
    "$2 ** 5 - 25$\n",
    "\n",
    "$(2000 / 1000) ** 5$\n",
    "\n",
    "b) Kumman laskun tulos on suurempi?\n",
    "\n",
    "$10000000000000000000 * 500 - 2.5$\n",
    "\n",
    "$1000000000000000000 * 500 - 2.5$\n",
    "\n",
    "c) Esiintyykö \"ölm\" seuraavassa merkkijonossa?\n",
    "\n",
    ">aofGÅÄPRBQEBQPRBQÄGÅWEDJÅQWEDÅQWDFNEGVOERVBNQOERGOEGHQOGRQEPNRBMRBQ¨'ERBQERBQEORBQEBRUdsdfsfsdgdsregegrglööööuliuilyuöäkk        jkjk,jghkölmwewe2342ä¨43¨32ä4¨å2145134+55i1+g4+134+g4g43g+3wepq,dqmpwvqpnrverpivPÅWQERIHQPWRQWRHQWQWPRPWRQWPRHWRHQWORQWRRJOQWRQWRQEÄQFOPQEFOQMERFNOEBGIOBMNQEÄORBNQÄEBRQÖEÄERBOUQEBNOÄQEORBQEÅGOQERGQERGUJIOQÖBRQREBQÖERBJQEIOÖBUQÖERBQERBQERBÖQERGGQÖJERGOQÖBGREWBQRQFEäoöweböefqvqrelbveörbeqberb\n"
   ]
  },
  {
   "cell_type": "markdown",
   "id": "0fd5df9f",
   "metadata": {},
   "source": [
    "## Input-komento"
   ]
  },
  {
   "cell_type": "markdown",
   "id": "9717bd18",
   "metadata": {},
   "source": [
    "Input komennon avulla pystytään luomaan ohjelma, joka kysyy ohjelman käyttäjältä syötettä. Ohjelma voi täten hyödyntää käyttäjän antamaa syötettä. Input-komennon arvon, eli käyttäjän antaman syötteen voi tallentaa muuttujaan. Alla olevassa esimerkissä ohjelma kysyy käyttäjän nimeä ja sitten tervehtii käyttäjää. "
   ]
  },
  {
   "cell_type": "code",
   "execution_count": 9,
   "id": "686abe51",
   "metadata": {},
   "outputs": [
    {
     "name": "stdout",
     "output_type": "stream",
     "text": [
      "Mikä on nimesi? Kalle\n",
      "Hei Kalle\n"
     ]
    }
   ],
   "source": [
    "nimi = input(\"Mikä on nimesi? \")\n",
    "print(\"Hei\",nimi)"
   ]
  },
  {
   "cell_type": "markdown",
   "id": "0b3bbbaa",
   "metadata": {},
   "source": [
    "Input-komento on uskomattoman monipuolinen ja sitä voidaan hyödyntää melkein missä tahansa. Input komentoja voi olla useita. Alla olevassa esimerkissä ohjelma kysyy ensiksi ikää ja sitten syntymäkuukautta."
   ]
  },
  {
   "cell_type": "code",
   "execution_count": 14,
   "id": "bcea01c2",
   "metadata": {},
   "outputs": [
    {
     "name": "stdout",
     "output_type": "stream",
     "text": [
      "Kuinka vanha olet? 26\n",
      "Olet 26 vuotta vanha?\n",
      "Entäs mikä on sinun syntymäkuukausi? huhtikuu\n",
      "Ai huhtikuu itse olen syntynyt joulukuussa!\n"
     ]
    }
   ],
   "source": [
    "ikä = input(\"Kuinka vanha olet? \")\n",
    "print(\"Olet\", ikä,\"vuotta vanha?\")\n",
    "kuukausi=input(\"Entäs mikä on sinun syntymäkuukausi? \")\n",
    "print(\"Ai\",kuukausi,\"itse olen syntynyt joulukuussa!\")"
   ]
  },
  {
   "cell_type": "markdown",
   "id": "63224c59",
   "metadata": {},
   "source": [
    "Input-komennon avulla voidaan myös laskea! Huomio, että alemmassa esimerkissä syötteelle annetaan tietynlainen tyyppi. Tässä tapauksessa se on float eli liukuluku. Jos tyyppiä ei asetettaisi, ohjelma antaisin errorin. Miksi?"
   ]
  },
  {
   "cell_type": "code",
   "execution_count": 41,
   "id": "9ab5f39b",
   "metadata": {},
   "outputs": [
    {
     "name": "stdout",
     "output_type": "stream",
     "text": [
      "Anna ympyrän säde: 2.3\n",
      "16.610599999999998\n",
      "vastaus 17 cm²\n"
     ]
    }
   ],
   "source": [
    "säde = float(input(\"Anna ympyrän säde: \"))\n",
    "\n",
    "vastaus=3.14 * säde ** 2\n",
    "print(vastaus)\n",
    "pyöristetty=round(vastaus)\n",
    "print(\"vastaus\",pyöristetty,\"cm\\u00b2\")"
   ]
  },
  {
   "cell_type": "code",
   "execution_count": 44,
   "id": "7d66c06d",
   "metadata": {},
   "outputs": [
    {
     "name": "stdout",
     "output_type": "stream",
     "text": [
      "Anna ympyrän säde: 2\n"
     ]
    },
    {
     "ename": "TypeError",
     "evalue": "unsupported operand type(s) for ** or pow(): 'str' and 'int'",
     "output_type": "error",
     "traceback": [
      "\u001b[1;31m---------------------------------------------------------------------------\u001b[0m",
      "\u001b[1;31mTypeError\u001b[0m                                 Traceback (most recent call last)",
      "\u001b[1;32m<ipython-input-44-ec2e77b035ba>\u001b[0m in \u001b[0;36m<module>\u001b[1;34m\u001b[0m\n\u001b[0;32m      1\u001b[0m \u001b[0msäde\u001b[0m \u001b[1;33m=\u001b[0m \u001b[0minput\u001b[0m\u001b[1;33m(\u001b[0m\u001b[1;34m\"Anna ympyrän säde: \"\u001b[0m\u001b[1;33m)\u001b[0m\u001b[1;33m\u001b[0m\u001b[1;33m\u001b[0m\u001b[0m\n\u001b[0;32m      2\u001b[0m \u001b[1;33m\u001b[0m\u001b[0m\n\u001b[1;32m----> 3\u001b[1;33m \u001b[0mvastaus\u001b[0m \u001b[1;33m=\u001b[0m \u001b[1;36m3.14\u001b[0m \u001b[1;33m*\u001b[0m \u001b[0msäde\u001b[0m \u001b[1;33m**\u001b[0m \u001b[1;36m2\u001b[0m\u001b[1;33m\u001b[0m\u001b[1;33m\u001b[0m\u001b[0m\n\u001b[0m\u001b[0;32m      4\u001b[0m \u001b[0mprint\u001b[0m\u001b[1;33m(\u001b[0m\u001b[0mvastaus\u001b[0m\u001b[1;33m)\u001b[0m\u001b[1;33m\u001b[0m\u001b[1;33m\u001b[0m\u001b[0m\n\u001b[0;32m      5\u001b[0m \u001b[0mpyöristetty\u001b[0m\u001b[1;33m=\u001b[0m\u001b[0mround\u001b[0m\u001b[1;33m(\u001b[0m\u001b[0mvastaus\u001b[0m\u001b[1;33m)\u001b[0m\u001b[1;33m\u001b[0m\u001b[1;33m\u001b[0m\u001b[0m\n",
      "\u001b[1;31mTypeError\u001b[0m: unsupported operand type(s) for ** or pow(): 'str' and 'int'"
     ]
    }
   ],
   "source": [
    "säde = input(\"Anna ympyrän säde: \")\n",
    "\n",
    "vastaus = 3.14 * säde ** 2\n",
    "print(vastaus)\n",
    "pyöristetty=round(vastaus)\n",
    "print(\"vastaus\",pyöristetty,\"cm\\u00b2\")"
   ]
  },
  {
   "cell_type": "markdown",
   "id": "3bfe7064",
   "metadata": {},
   "source": [
    "Muuttujaan tallennettua syötettä voidaan hyödyntää ohjelmassa loputtomasti"
   ]
  },
  {
   "cell_type": "code",
   "execution_count": 46,
   "id": "dd31db2a",
   "metadata": {},
   "outputs": [
    {
     "name": "stdout",
     "output_type": "stream",
     "text": [
      "tervehdi!Moi\n",
      "MoiMoiMoiMoiMoiMoiMoiMoiMoiMoi\n",
      "MoiMoiMoiMoiMoiMoiMoiMoiMoiMoi\n",
      "MoiMoiMoiMoiMoiMoiMoiMoiMoiMoi\n",
      "MoiMoiMoiMoiMoiMoiMoiMoiMoiMoi\n"
     ]
    }
   ],
   "source": [
    "tervehdys = input(\"tervehdi!\")\n",
    "print(tervehdys  * 10 )\n",
    "print(tervehdys  * 10 )\n",
    "print(tervehdys  * 10 )\n",
    "print(tervehdys  * 10 )"
   ]
  },
  {
   "cell_type": "markdown",
   "id": "81b038c6",
   "metadata": {},
   "source": [
    "## Ehtolause"
   ]
  },
  {
   "cell_type": "markdown",
   "id": "9c26c625",
   "metadata": {},
   "source": [
    "## Silmukat, While ja For"
   ]
  }
 ],
 "metadata": {
  "kernelspec": {
   "display_name": "Python 3",
   "language": "python",
   "name": "python3"
  },
  "language_info": {
   "codemirror_mode": {
    "name": "ipython",
    "version": 3
   },
   "file_extension": ".py",
   "mimetype": "text/x-python",
   "name": "python",
   "nbconvert_exporter": "python",
   "pygments_lexer": "ipython3",
   "version": "3.7.10"
  },
  "widgets": {
   "application/vnd.jupyter.widget-state+json": {
    "state": {},
    "version_major": 2,
    "version_minor": 0
   }
  }
 },
 "nbformat": 4,
 "nbformat_minor": 5
}
